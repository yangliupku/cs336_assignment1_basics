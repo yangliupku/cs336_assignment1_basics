{
  "nbformat": 4,
  "nbformat_minor": 0,
  "metadata": {
    "colab": {
      "provenance": [],
      "authorship_tag": "ABX9TyOaBk30pkd2LO2jmQCWpFmD",
      "include_colab_link": true
    },
    "kernelspec": {
      "name": "python3",
      "display_name": "Python 3"
    },
    "language_info": {
      "name": "python"
    }
  },
  "cells": [
    {
      "cell_type": "markdown",
      "metadata": {
        "id": "view-in-github",
        "colab_type": "text"
      },
      "source": [
        "<a href=\"https://colab.research.google.com/github/yangliupku/assignment1-basics/blob/main/notebooks/assignment1_pretokenization.ipynb\" target=\"_parent\"><img src=\"https://colab.research.google.com/assets/colab-badge.svg\" alt=\"Open In Colab\"/></a>"
      ]
    },
    {
      "cell_type": "code",
      "execution_count": 1,
      "metadata": {
        "colab": {
          "base_uri": "https://localhost:8080/"
        },
        "id": "AWmcNiWxm3_7",
        "outputId": "86b45eaf-99d0-498a-ab0d-b359b0151f67"
      },
      "outputs": [
        {
          "output_type": "stream",
          "name": "stdout",
          "text": [
            "--2025-07-07 02:12:13--  https://huggingface.co/datasets/roneneldan/TinyStories/resolve/main/TinyStoriesV2-GPT4-valid.txt\n",
            "Resolving huggingface.co (huggingface.co)... 3.166.152.105, 3.166.152.65, 3.166.152.44, ...\n",
            "Connecting to huggingface.co (huggingface.co)|3.166.152.105|:443... connected.\n",
            "HTTP request sent, awaiting response... 302 Found\n",
            "Location: https://cdn-lfs.hf.co/repos/42/7f/427f7497b6c6596c18b46d5a72e61364fcad12aa433c60a0dbd4d344477b9d81/6874bae9a4c1a4e7edcf0e53b86c17817e9cf881fc75ff2368da457b80c0585d?response-content-disposition=inline%3B+filename*%3DUTF-8%27%27TinyStoriesV2-GPT4-valid.txt%3B+filename%3D%22TinyStoriesV2-GPT4-valid.txt%22%3B&response-content-type=text%2Fplain&Expires=1751857933&Policy=eyJTdGF0ZW1lbnQiOlt7IkNvbmRpdGlvbiI6eyJEYXRlTGVzc1RoYW4iOnsiQVdTOkVwb2NoVGltZSI6MTc1MTg1NzkzM319LCJSZXNvdXJjZSI6Imh0dHBzOi8vY2RuLWxmcy5oZi5jby9yZXBvcy80Mi83Zi80MjdmNzQ5N2I2YzY1OTZjMThiNDZkNWE3MmU2MTM2NGZjYWQxMmFhNDMzYzYwYTBkYmQ0ZDM0NDQ3N2I5ZDgxLzY4NzRiYWU5YTRjMWE0ZTdlZGNmMGU1M2I4NmMxNzgxN2U5Y2Y4ODFmYzc1ZmYyMzY4ZGE0NTdiODBjMDU4NWQ%7EcmVzcG9uc2UtY29udGVudC1kaXNwb3NpdGlvbj0qJnJlc3BvbnNlLWNvbnRlbnQtdHlwZT0qIn1dfQ__&Signature=RRoZsy3H2G3WkrMHQk2AV5meafAWI7W6fZ9hvAm370lqtIjUcOSmNsNwOQpzNgcCMgm3h9MxswI-qHTMkjga6vHZ0hPOrJcYa66uVQ3ASeI5uOQiDbW11Gq-9miVdnGflZH3QGvjc-NEAbu5F0EUFTxBN92mDN1U0-RBvKMjXYfpSLlL0oB%7Ev2PrHgGPDCyAwKdj5qUW6xoHPhreoKBjBoIZrmYUXWji6ug2KeQKTN1KrNdpCP2uUr1ug7MXuTVE%7E3-ZOmEPMCchL-I2pFsbbaSPhWjgXigD6JfZhOm0h0uWfhGx-ANnRoNJylv7neEiQagfWoCRT3imVf35Y0QrCw__&Key-Pair-Id=K3RPWS32NSSJCE [following]\n",
            "--2025-07-07 02:12:13--  https://cdn-lfs.hf.co/repos/42/7f/427f7497b6c6596c18b46d5a72e61364fcad12aa433c60a0dbd4d344477b9d81/6874bae9a4c1a4e7edcf0e53b86c17817e9cf881fc75ff2368da457b80c0585d?response-content-disposition=inline%3B+filename*%3DUTF-8%27%27TinyStoriesV2-GPT4-valid.txt%3B+filename%3D%22TinyStoriesV2-GPT4-valid.txt%22%3B&response-content-type=text%2Fplain&Expires=1751857933&Policy=eyJTdGF0ZW1lbnQiOlt7IkNvbmRpdGlvbiI6eyJEYXRlTGVzc1RoYW4iOnsiQVdTOkVwb2NoVGltZSI6MTc1MTg1NzkzM319LCJSZXNvdXJjZSI6Imh0dHBzOi8vY2RuLWxmcy5oZi5jby9yZXBvcy80Mi83Zi80MjdmNzQ5N2I2YzY1OTZjMThiNDZkNWE3MmU2MTM2NGZjYWQxMmFhNDMzYzYwYTBkYmQ0ZDM0NDQ3N2I5ZDgxLzY4NzRiYWU5YTRjMWE0ZTdlZGNmMGU1M2I4NmMxNzgxN2U5Y2Y4ODFmYzc1ZmYyMzY4ZGE0NTdiODBjMDU4NWQ%7EcmVzcG9uc2UtY29udGVudC1kaXNwb3NpdGlvbj0qJnJlc3BvbnNlLWNvbnRlbnQtdHlwZT0qIn1dfQ__&Signature=RRoZsy3H2G3WkrMHQk2AV5meafAWI7W6fZ9hvAm370lqtIjUcOSmNsNwOQpzNgcCMgm3h9MxswI-qHTMkjga6vHZ0hPOrJcYa66uVQ3ASeI5uOQiDbW11Gq-9miVdnGflZH3QGvjc-NEAbu5F0EUFTxBN92mDN1U0-RBvKMjXYfpSLlL0oB%7Ev2PrHgGPDCyAwKdj5qUW6xoHPhreoKBjBoIZrmYUXWji6ug2KeQKTN1KrNdpCP2uUr1ug7MXuTVE%7E3-ZOmEPMCchL-I2pFsbbaSPhWjgXigD6JfZhOm0h0uWfhGx-ANnRoNJylv7neEiQagfWoCRT3imVf35Y0QrCw__&Key-Pair-Id=K3RPWS32NSSJCE\n",
            "Resolving cdn-lfs.hf.co (cdn-lfs.hf.co)... 13.226.52.110, 13.226.52.121, 13.226.52.68, ...\n",
            "Connecting to cdn-lfs.hf.co (cdn-lfs.hf.co)|13.226.52.110|:443... connected.\n",
            "HTTP request sent, awaiting response... 200 OK\n",
            "Length: 22502601 (21M) [text/plain]\n",
            "Saving to: ‘TinyStoriesV2-GPT4-valid.txt’\n",
            "\n",
            "TinyStoriesV2-GPT4- 100%[===================>]  21.46M  48.2MB/s    in 0.4s    \n",
            "\n",
            "2025-07-07 02:12:13 (48.2 MB/s) - ‘TinyStoriesV2-GPT4-valid.txt’ saved [22502601/22502601]\n",
            "\n"
          ]
        }
      ],
      "source": [
        "!wget https://huggingface.co/datasets/roneneldan/TinyStories/resolve/main/TinyStoriesV2-GPT4-valid.txt"
      ]
    },
    {
      "cell_type": "code",
      "source": [
        "import re"
      ],
      "metadata": {
        "id": "Q3CB8d2asyM1"
      },
      "execution_count": 5,
      "outputs": []
    },
    {
      "cell_type": "code",
      "source": [
        "with open('TinyStoriesV2-GPT4-valid.txt', 'r') as f:\n",
        "  raw_text = f.read()"
      ],
      "metadata": {
        "id": "lhtmO2QIp74T"
      },
      "execution_count": 2,
      "outputs": []
    },
    {
      "cell_type": "code",
      "source": [
        "print(raw_text[:5000])"
      ],
      "metadata": {
        "colab": {
          "base_uri": "https://localhost:8080/"
        },
        "id": "5m7kYdhxsPkX",
        "outputId": "4c070926-2e18-432f-83eb-f52b6f16e2b5"
      },
      "execution_count": 4,
      "outputs": [
        {
          "output_type": "stream",
          "name": "stdout",
          "text": [
            "u don't have to be scared of the loud dog, I'll protect you\". The mole felt so safe with the little girl. She was very kind and the mole soon came to trust her. He leaned against her and she kept him safe. The mole had found his best friend.\n",
            "<|endoftext|>\n",
            "Once upon a time, in a warm and sunny place, there was a big pit. A little boy named Tom liked to play near the pit. One day, Tom lost his red ball. He was very sad.\n",
            "Tom asked his friend, Sam, to help him search for the ball. They looked high and low, but they could not find the ball. Tom said, \"I think my ball fell into the pit.\"\n",
            "Sam and Tom went close to the pit. They were scared, but they wanted to find the red ball. They looked into the pit, but it was too dark to see. Tom said, \"We must go in and search for my ball.\"\n",
            "They went into the pit to search. It was dark and scary. They could not find the ball. They tried to get out, but the pit was too deep. Tom and Sam were stuck in the pit. They called for help, but no one could hear them. They were sad and scared, and they never got out of the pit.\n",
            "<|endoftext|>\n",
            "\n",
            "\n",
            "Tom and Lily were playing with their toys in the living room. They liked to build towers and bridges with their blocks and cars. Tom was very proud of his tall tower. He wanted to make it even taller, so he reached for more blocks.\n",
            "\"Tom, can I have some blocks too?\" Lily asked. She wanted to make a bridge for her cars.\n",
            "\"No, these are mine. Go find your own,\" Tom said. He did not want to share with his sister. He pulled the blocks closer to him.\n",
            "Lily felt sad and angry. She did not think Tom was being nice. She looked at his tower and had an idea. She decided to pull one of the blocks at the bottom of the tower.\n",
            "Suddenly, the tower fell down with a loud crash. All the blocks and cars scattered on the floor. Tom and Lily were shocked. They felt the floor shake and heard a rumble. It was an earthquake!\n",
            "\"Mommy! Daddy!\" they cried. They were scared and ran to their parents, who were in the kitchen.\n",
            "\"Are you okay, kids?\" Mommy asked. She hugged them and checked if they were hurt.\n",
            "\"We're okay, Mommy. But our toys are broken,\" Lily said.\n",
            "\"I'm sorry, Lily. But toys are not important. You are important. We are safe and together. That's what matters,\" Mommy said.\n",
            "Tom felt sorry for what he did. He realized he was selfish and mean to his sister. He saw how scared she was during the earthquake. He wanted to make her happy.\n",
            "\"Lily, I'm sorry I did not share with you. You can have all the blocks you want. I love you, sister,\" Tom said.\n",
            "Lily smiled and hugged him. She forgave him and thanked him. She loved him too.\n",
            "They went back to the living room and cleaned up their toys. They decided to build something together. They made a big house with a garden and a fence. They put their cars and dolls inside. They were happy and proud of their work.\n",
            "Mommy and Daddy came to see their house. They praised them and gave them a treat. It was a lemon cake. It was sour, but they liked it. They learned that sharing is caring, and that family is sweet.\n",
            "<|endoftext|>\n",
            "\n",
            "Once upon a time there was a little girl named Lucy. She loved to go to the store to buy sweets with her mom and dad. On this special day, Lucy entered the store with her mom and dad, feeling so excited.\n",
            "As they were looking around, Lucy noticed a little girl playing with a toy in the corner of the store. She gasped in excitement and ran towards her. Lucy asked if she could play too but the little girl said no. She was rather grumpy and was not in the mood to play.\n",
            "Lucy's mom saw what was going on and told Lucy, \"Let's try to be peaceful and kind to her. Have patience and understanding. Together, you can both be happy!\"\n",
            "So, Lucy smiled at the girl and said, \"Can we play together?\" The little girl softened and smiled back. She agreed to share the toy and even let Lucy have a turn first.\n",
            "Lucy and the little girl played together happily. In the end, they both learnt an important lesson: be peaceful, kind, and understanding when faced with a conflict. And that is why Lucy and the little girl became great friends.\n",
            "<|endoftext|>\n",
            "One morning, a cat named Tom woke up. He felt happy because the sun was shining. Tom wanted to start his day, so he did a big stretch. He stretched his legs, his back, and his tail. It felt easy and good.\n",
            "Tom went outside to play. He saw his friend, a dog named Max. Max was also stretching in the morning sun. They both felt very happy. They decided to play together and have fun all day.\n",
            "At the end of the day, Tom and Max were tired. They had played all day and had lots of fun. They said goodbye to each other and went to their homes. Before going to sleep, they both did another easy stretch. Tom knew that tomorrow would be another happy morning.\n",
            "<|endoftext|>\n",
            "\n",
            "\n",
            "Lily and Tom were twins who liked to decorate things. They had a big box of crayons, stickers, and glitter. One day, they found a shiny copper pot in the kitchen. It was Mom's pot, but she was not home. Lily and Tom wanted to make it more pre\n"
          ]
        }
      ]
    },
    {
      "cell_type": "code",
      "source": [
        "special_tokens = ['<|endoftext|>', '<|startoftext|>']\n",
        "special_tokens_escaped = [re.escape(t) for t in special_tokens]\n",
        "pattern = \"|\".join(special_tokens_escaped)\n",
        "parts=re.split(pattern, raw_text)"
      ],
      "metadata": {
        "id": "mhQOmrzcsRaK"
      },
      "execution_count": 24,
      "outputs": []
    },
    {
      "cell_type": "code",
      "source": [
        "special_tokens_escaped"
      ],
      "metadata": {
        "colab": {
          "base_uri": "https://localhost:8080/"
        },
        "id": "1iFwdvYps9Lt",
        "outputId": "739eecc5-681d-4df9-a611-9f9db2f07a4b"
      },
      "execution_count": 25,
      "outputs": [
        {
          "output_type": "execute_result",
          "data": {
            "text/plain": [
              "['<\\\\|endoftext\\\\|>', '<\\\\|startoftext\\\\|>']"
            ]
          },
          "metadata": {},
          "execution_count": 25
        }
      ]
    },
    {
      "cell_type": "code",
      "source": [],
      "metadata": {
        "id": "JqRYG2wps9vH"
      },
      "execution_count": 22,
      "outputs": []
    },
    {
      "cell_type": "code",
      "source": [
        "for t in parts[:10]:\n",
        "  print(t)"
      ],
      "metadata": {
        "colab": {
          "base_uri": "https://localhost:8080/"
        },
        "id": "T-17giYtuDrU",
        "outputId": "c858c2fc-0208-4887-a978-1368563d993b"
      },
      "execution_count": 26,
      "outputs": [
        {
          "output_type": "stream",
          "name": "stdout",
          "text": [
            "u don't have to be scared of the loud dog, I'll protect you\". The mole felt so safe with the little girl. She was very kind and the mole soon came to trust her. He leaned against her and she kept him safe. The mole had found his best friend.\n",
            "\n",
            "\n",
            "Once upon a time, in a warm and sunny place, there was a big pit. A little boy named Tom liked to play near the pit. One day, Tom lost his red ball. He was very sad.\n",
            "Tom asked his friend, Sam, to help him search for the ball. They looked high and low, but they could not find the ball. Tom said, \"I think my ball fell into the pit.\"\n",
            "Sam and Tom went close to the pit. They were scared, but they wanted to find the red ball. They looked into the pit, but it was too dark to see. Tom said, \"We must go in and search for my ball.\"\n",
            "They went into the pit to search. It was dark and scary. They could not find the ball. They tried to get out, but the pit was too deep. Tom and Sam were stuck in the pit. They called for help, but no one could hear them. They were sad and scared, and they never got out of the pit.\n",
            "\n",
            "\n",
            "\n",
            "\n",
            "Tom and Lily were playing with their toys in the living room. They liked to build towers and bridges with their blocks and cars. Tom was very proud of his tall tower. He wanted to make it even taller, so he reached for more blocks.\n",
            "\"Tom, can I have some blocks too?\" Lily asked. She wanted to make a bridge for her cars.\n",
            "\"No, these are mine. Go find your own,\" Tom said. He did not want to share with his sister. He pulled the blocks closer to him.\n",
            "Lily felt sad and angry. She did not think Tom was being nice. She looked at his tower and had an idea. She decided to pull one of the blocks at the bottom of the tower.\n",
            "Suddenly, the tower fell down with a loud crash. All the blocks and cars scattered on the floor. Tom and Lily were shocked. They felt the floor shake and heard a rumble. It was an earthquake!\n",
            "\"Mommy! Daddy!\" they cried. They were scared and ran to their parents, who were in the kitchen.\n",
            "\"Are you okay, kids?\" Mommy asked. She hugged them and checked if they were hurt.\n",
            "\"We're okay, Mommy. But our toys are broken,\" Lily said.\n",
            "\"I'm sorry, Lily. But toys are not important. You are important. We are safe and together. That's what matters,\" Mommy said.\n",
            "Tom felt sorry for what he did. He realized he was selfish and mean to his sister. He saw how scared she was during the earthquake. He wanted to make her happy.\n",
            "\"Lily, I'm sorry I did not share with you. You can have all the blocks you want. I love you, sister,\" Tom said.\n",
            "Lily smiled and hugged him. She forgave him and thanked him. She loved him too.\n",
            "They went back to the living room and cleaned up their toys. They decided to build something together. They made a big house with a garden and a fence. They put their cars and dolls inside. They were happy and proud of their work.\n",
            "Mommy and Daddy came to see their house. They praised them and gave them a treat. It was a lemon cake. It was sour, but they liked it. They learned that sharing is caring, and that family is sweet.\n",
            "\n",
            "\n",
            "\n",
            "Once upon a time there was a little girl named Lucy. She loved to go to the store to buy sweets with her mom and dad. On this special day, Lucy entered the store with her mom and dad, feeling so excited.\n",
            "As they were looking around, Lucy noticed a little girl playing with a toy in the corner of the store. She gasped in excitement and ran towards her. Lucy asked if she could play too but the little girl said no. She was rather grumpy and was not in the mood to play.\n",
            "Lucy's mom saw what was going on and told Lucy, \"Let's try to be peaceful and kind to her. Have patience and understanding. Together, you can both be happy!\"\n",
            "So, Lucy smiled at the girl and said, \"Can we play together?\" The little girl softened and smiled back. She agreed to share the toy and even let Lucy have a turn first.\n",
            "Lucy and the little girl played together happily. In the end, they both learnt an important lesson: be peaceful, kind, and understanding when faced with a conflict. And that is why Lucy and the little girl became great friends.\n",
            "\n",
            "\n",
            "One morning, a cat named Tom woke up. He felt happy because the sun was shining. Tom wanted to start his day, so he did a big stretch. He stretched his legs, his back, and his tail. It felt easy and good.\n",
            "Tom went outside to play. He saw his friend, a dog named Max. Max was also stretching in the morning sun. They both felt very happy. They decided to play together and have fun all day.\n",
            "At the end of the day, Tom and Max were tired. They had played all day and had lots of fun. They said goodbye to each other and went to their homes. Before going to sleep, they both did another easy stretch. Tom knew that tomorrow would be another happy morning.\n",
            "\n",
            "\n",
            "\n",
            "\n",
            "Lily and Tom were twins who liked to decorate things. They had a big box of crayons, stickers, and glitter. One day, they found a shiny copper pot in the kitchen. It was Mom's pot, but she was not home. Lily and Tom wanted to make it more pretty.\n",
            "They took the pot to their room and put it on the floor. They opened their box of crayons, stickers, and glitter. They started to draw and stick and sprinkle on the pot. They made colorful shapes and patterns. They thought the pot looked very nice.\n",
            "But they were clumsy. They did not see that they also made a big mess. They spilled glitter on the floor and the bed. They stuck stickers on the wall and the door. They drew crayons on the window and the dresser. They did not hear Mom come home.\n",
            "Mom saw the mess in the kitchen. She saw the glitter, the stickers, and the crayons. She was angry. She followed the trail to their room. She saw the pot. She saw the floor, the bed, the wall, the door, the window, and the dresser. She was very angry.\n",
            "She said, \"Lily and Tom, what did you do? You ruined my pot and my room. You are very naughty. You have to clean up everything. And you have to say sorry.\"\n",
            "Lily and Tom were scared. They did not mean to make Mom angry. They only wanted to decorate the pot. They said, \"Sorry, Mom. We love you. We will clean up. Please don't be mad.\"\n",
            "Mom sighed. She was still angry, but she also loved them. She said, \"I love you too, but you have to be careful. You can't touch my things without asking. And you can't make a mess like this. You have to learn to be more tidy and respectful.\"\n",
            "Lily and Tom nodded. They hugged Mom and said, \"We will, Mom. We will.\" They took a broom, a dustpan, and a cloth. They started to clean up their mess. They hoped Mom would forgive them. They learned their lesson. They would not decorate Mom's pot again.\n",
            "\n",
            "\n",
            "\n",
            "Once upon a time, there was a king. He was a big and strong king who ruled over his kingdom. One day, he wanted to take a nice and long bath, so he filled up his big bathtub with warm water. He wanted to feel relaxed and so he soaked in the tub for a really long time.\n",
            "When he had finished soaking and stepped out of the bathtub, the king noticed that the water had spilled out of the tub and all over the floor. He felt guilty that he had made such a mess, so he quickly grabbed a cloth and began to clean it up.\n",
            "The king got so hot from cleaning up the mess that he decided to take another soak in the bathtub. He put a lot of bubbles in the water to make it nice and bubbly. He relaxed again and felt all the worries wash away.\n",
            "The king was so happy that he had been able to clean up the mess he had made and enjoy a nice soak. He dried off and wrapped himself up in a big towel. Then, the king went back to ruling his kingdom and enjoying his lovely baths.\n",
            "\n",
            "\n",
            "\n",
            "\n",
            "Lily and Max were playing in the park with their mom. They liked to slide, swing, and run on the grass. They also liked to listen to the birds that made whistles in the trees.\n",
            "\"Look, mom, a red bird!\" Lily said, pointing to a cardinal.\n",
            "\"That's a pretty bird, Lily. Do you know what it is called?\" mom asked.\n",
            "\"A cardinal, mom. I learned it in school,\" Lily said proudly.\n",
            "\"Very good, Lily. And do you know what that yellow bird is, Max?\" mom asked, pointing to a canary.\n",
            "\"A canary, mom. I learned it in school, too,\" Max said.\n",
            "\"Wow, you are both very smart. Do you want to learn another bird name?\" mom asked.\n",
            "\"Yes, mom, yes!\" Lily and Max said.\n",
            "\"OK, see that blue bird over there? That's a blue jay. It has a very loud whistle. Can you try to whistle like it?\" mom asked.\n",
            "Lily and Max tried to whistle, but they only made funny noises. They laughed and mom laughed, too.\n",
            "\"Whistling is hard, mom. How do you do it?\" Lily asked.\n",
            "\"It takes practice, Lily. Maybe when you are older, you can whistle better. But you know what? You don't need to whistle to have fun. You can sing, or clap, or dance, or make any sound you like,\" mom said.\n",
            "\"I like to sing, mom. Can we sing a song?\" Max asked.\n",
            "\"Sure, Max. What song do you want to sing?\" mom asked.\n",
            "\"How about 'Twinkle, Twinkle, Little Star'?\" Max suggested.\n",
            "\"OK, let's sing it together,\" mom said.\n",
            "They sang the song and looked at the sky. The sun was shining and the clouds were light and fluffy.\n",
            "\"That was a nice song, mom. But I'm feeling sleepy now. Can we nap?\" Lily asked.\n",
            "\"Me too, mom. Can we nap?\" Max asked.\n",
            "\"Of course, my sweeties. Let's go to the car and nap. You had a busy day,\" mom said.\n",
            "They walked to the car and mom buckled them in their seats. She gave them each a kiss and a hug.\n",
            "\"Sleep well, my loves. I'll wake you up when we get home,\" mom said.\n",
            "Lily and Max closed their eyes and fell asleep. They dreamed of birds and stars and whistles. They were happy.\n",
            "\n",
            "\n",
            "Once upon a time, there was a big bow. The bow was very strong and reliable. It was the best bow in the town. Everyone liked the bow and wanted to use it. They knew it would help them do their work.\n",
            "One day, a man wanted to test the bow. He was not a good man. He wanted to see if the bow was really strong. He pulled and pulled on the bow. He wanted to see if it would break.\n",
            "The bow did not break because it was strong. But the man did not stop. He pulled harder and harder. At last, the bow broke. The man was not happy. The town was sad. They lost their best bow.\n",
            "\n",
            "\n",
            "Once upon a time, there was a little girl named Lily. She lived in a small, tidy house with her mom, dad, and her dog, Max. Lily loved to play with Max in the backyard. They would run, jump, and have lots of fun together.\n",
            "One day, Lily's mom said, \"Lily, I have a special treat for you and Max!\" She gave Lily a big, yummy cookie and Max a tasty bone. Lily was very happy and said, \"Thank you, mom!\" But then, she had an idea. She wanted to save the cookie and the bone for later.\n",
            "Lily put the cookie and the bone in a secret place under her bed. She forgot about them for a few days. When she remembered the treats, she found that the cookie was all broken and the bone was dirty. The treats were spoiled. Lily was sad, but she learned that it's better to enjoy treats when they are fresh and clean.\n",
            "\n"
          ]
        }
      ]
    },
    {
      "cell_type": "code",
      "source": [
        "# PAT = r\"\"\"'(?:[sdmt]|ll|ve|re)| ?\\p{L}+| ?\\p{N}+| ?[^\\s\\p{L}\\p{N}]+|\\s+(?!\\S)|\\s+\"\"\"\n",
        "PAT = r\"\"\"'(?:[sdmt]|ll|ve|re)| ?\\p{L}+| ?\\p{N}+| ?[^\\s\\p{L}\\p{N}]+|\\s+(?!\\S)|\\s+\"\"\""
      ],
      "metadata": {
        "id": "_Z5CTqWOuEPc"
      },
      "execution_count": 33,
      "outputs": []
    },
    {
      "cell_type": "code",
      "source": [
        "import regex\n",
        "\n",
        "PAT = r\"\"\"'(?:[sdmt]|ll|ve|re)| ?\\p{L}+| ?\\p{N}+| ?[^\\s\\p{L}\\p{N}]+|\\s+(?!\\S)|\\s+\"\"\""
      ],
      "metadata": {
        "id": "Fi7tNXCuyrdt"
      },
      "execution_count": 36,
      "outputs": []
    },
    {
      "cell_type": "code",
      "source": [
        "regex.findall(PAT, parts[0])"
      ],
      "metadata": {
        "colab": {
          "base_uri": "https://localhost:8080/"
        },
        "id": "gCr4SflSyvBE",
        "outputId": "56740f45-a236-4482-e87d-b042590ee322"
      },
      "execution_count": 37,
      "outputs": [
        {
          "output_type": "execute_result",
          "data": {
            "text/plain": [
              "['u',\n",
              " ' don',\n",
              " \"'t\",\n",
              " ' have',\n",
              " ' to',\n",
              " ' be',\n",
              " ' scared',\n",
              " ' of',\n",
              " ' the',\n",
              " ' loud',\n",
              " ' dog',\n",
              " ',',\n",
              " ' I',\n",
              " \"'ll\",\n",
              " ' protect',\n",
              " ' you',\n",
              " '\".',\n",
              " ' The',\n",
              " ' mole',\n",
              " ' felt',\n",
              " ' so',\n",
              " ' safe',\n",
              " ' with',\n",
              " ' the',\n",
              " ' little',\n",
              " ' girl',\n",
              " '.',\n",
              " ' She',\n",
              " ' was',\n",
              " ' very',\n",
              " ' kind',\n",
              " ' and',\n",
              " ' the',\n",
              " ' mole',\n",
              " ' soon',\n",
              " ' came',\n",
              " ' to',\n",
              " ' trust',\n",
              " ' her',\n",
              " '.',\n",
              " ' He',\n",
              " ' leaned',\n",
              " ' against',\n",
              " ' her',\n",
              " ' and',\n",
              " ' she',\n",
              " ' kept',\n",
              " ' him',\n",
              " ' safe',\n",
              " '.',\n",
              " ' The',\n",
              " ' mole',\n",
              " ' had',\n",
              " ' found',\n",
              " ' his',\n",
              " ' best',\n",
              " ' friend',\n",
              " '.',\n",
              " '\\n']"
            ]
          },
          "metadata": {},
          "execution_count": 37
        }
      ]
    },
    {
      "cell_type": "code",
      "source": [],
      "metadata": {
        "id": "KcUydpl5yzwo"
      },
      "execution_count": null,
      "outputs": []
    }
  ]
}