{
  "nbformat": 4,
  "nbformat_minor": 0,
  "metadata": {
    "colab": {
      "provenance": [],
      "authorship_tag": "ABX9TyNumGB9xyLGWWEkiL2wHCoa",
      "include_colab_link": true
    },
    "kernelspec": {
      "name": "python3",
      "display_name": "Python 3"
    },
    "language_info": {
      "name": "python"
    }
  },
  "cells": [
    {
      "cell_type": "markdown",
      "metadata": {
        "id": "view-in-github",
        "colab_type": "text"
      },
      "source": [
        "<a href=\"https://colab.research.google.com/github/yangliupku/cs336_assignment1_basics/blob/main/notebooks/assignment1_torch_basic.ipynb\" target=\"_parent\"><img src=\"https://colab.research.google.com/assets/colab-badge.svg\" alt=\"Open In Colab\"/></a>"
      ]
    },
    {
      "cell_type": "code",
      "execution_count": 16,
      "metadata": {
        "colab": {
          "base_uri": "https://localhost:8080/"
        },
        "id": "SuNGuJDiuZ9C",
        "outputId": "b2d851d6-718f-4f3f-ad21-e056ae1f2be1"
      },
      "outputs": [
        {
          "output_type": "execute_result",
          "data": {
            "text/plain": [
              "device(type='cpu')"
            ]
          },
          "metadata": {},
          "execution_count": 16
        }
      ],
      "source": [
        "import torch\n",
        "\n",
        "def get_device(index: int = 0) -> torch.device:\n",
        "    \"\"\"Try to use the GPU if possible, otherwise, use CPU.\"\"\"\n",
        "    if torch.cuda.is_available():\n",
        "        return torch.device(f\"cuda:{index}\")\n",
        "    else:\n",
        "        return torch.device(\"cpu\")\n",
        "\n",
        "get_device()"
      ]
    },
    {
      "cell_type": "markdown",
      "source": [
        "# Tensors"
      ],
      "metadata": {
        "id": "v7qaCfNzx9N7"
      }
    },
    {
      "cell_type": "code",
      "source": [
        "x1 = torch.tensor([[1,2,3], [4,5,6]])\n",
        "x1\n"
      ],
      "metadata": {
        "colab": {
          "base_uri": "https://localhost:8080/"
        },
        "id": "XuXpsdz2x8U2",
        "outputId": "f07afd4c-d3e3-4e53-db03-f255cf647e05"
      },
      "execution_count": 34,
      "outputs": [
        {
          "output_type": "execute_result",
          "data": {
            "text/plain": [
              "torch.Size([2, 3])"
            ]
          },
          "metadata": {},
          "execution_count": 34
        }
      ]
    },
    {
      "cell_type": "code",
      "source": [
        "x1.shape"
      ],
      "metadata": {
        "colab": {
          "base_uri": "https://localhost:8080/"
        },
        "id": "BSRYP3vzyO5t",
        "outputId": "bb6ae514-e68e-49cb-9fbe-82028cae0989"
      },
      "execution_count": 37,
      "outputs": [
        {
          "output_type": "execute_result",
          "data": {
            "text/plain": [
              "torch.Size([2, 3])"
            ]
          },
          "metadata": {},
          "execution_count": 37
        }
      ]
    },
    {
      "cell_type": "code",
      "source": [
        "x1.size()"
      ],
      "metadata": {
        "colab": {
          "base_uri": "https://localhost:8080/"
        },
        "id": "yl4Pl9QMySoz",
        "outputId": "9a8f8841-e27e-494e-cc69-42c16d201a9f"
      },
      "execution_count": 38,
      "outputs": [
        {
          "output_type": "execute_result",
          "data": {
            "text/plain": [
              "torch.Size([2, 3])"
            ]
          },
          "metadata": {},
          "execution_count": 38
        }
      ]
    },
    {
      "cell_type": "code",
      "source": [
        "x2 = torch.ones(x1.shape)\n",
        "x2"
      ],
      "metadata": {
        "colab": {
          "base_uri": "https://localhost:8080/"
        },
        "id": "eJVQzsFeyULO",
        "outputId": "0ec3525a-9760-4c9d-b430-87a8a642dd02"
      },
      "execution_count": 39,
      "outputs": [
        {
          "output_type": "execute_result",
          "data": {
            "text/plain": [
              "tensor([[1., 1., 1.],\n",
              "        [1., 1., 1.]])"
            ]
          },
          "metadata": {},
          "execution_count": 39
        }
      ]
    },
    {
      "cell_type": "code",
      "source": [
        "x3 = torch.zeros(5)\n",
        "x3"
      ],
      "metadata": {
        "colab": {
          "base_uri": "https://localhost:8080/"
        },
        "id": "LyEmqz_iyYaZ",
        "outputId": "14718623-6442-4d0a-c4a4-9ce071b73932"
      },
      "execution_count": 41,
      "outputs": [
        {
          "output_type": "execute_result",
          "data": {
            "text/plain": [
              "tensor([0., 0., 0., 0., 0.])"
            ]
          },
          "metadata": {},
          "execution_count": 41
        }
      ]
    },
    {
      "cell_type": "code",
      "source": [
        "x4 = torch.empty(5, device=get_device(), dtype=torch.bfloat16)\n",
        "x4"
      ],
      "metadata": {
        "colab": {
          "base_uri": "https://localhost:8080/"
        },
        "id": "8ott3ng-ydJ7",
        "outputId": "d8ed9fd4-10d2-4aad-8092-2bcb9554a818"
      },
      "execution_count": 44,
      "outputs": [
        {
          "output_type": "execute_result",
          "data": {
            "text/plain": [
              "tensor([-1.1990e+20,  8.5493e-10,  0.0000e+00,  0.0000e+00, -2.4425e-15],\n",
              "       dtype=torch.bfloat16)"
            ]
          },
          "metadata": {},
          "execution_count": 44
        }
      ]
    },
    {
      "cell_type": "code",
      "source": [
        "torch.nn.init.trunc_normal_(x4, mean=0, std=1, a=-3, b=3)"
      ],
      "metadata": {
        "colab": {
          "base_uri": "https://localhost:8080/"
        },
        "id": "7fkXTplOykVE",
        "outputId": "4e6070ae-4405-41b1-c885-c144e7f46205"
      },
      "execution_count": 45,
      "outputs": [
        {
          "output_type": "execute_result",
          "data": {
            "text/plain": [
              "tensor([ 0.9570, -1.4609,  0.6094, -0.3184, -0.0195], dtype=torch.bfloat16)"
            ]
          },
          "metadata": {},
          "execution_count": 45
        }
      ]
    },
    {
      "cell_type": "code",
      "source": [
        "x4"
      ],
      "metadata": {
        "colab": {
          "base_uri": "https://localhost:8080/"
        },
        "id": "dO4XDE9wy0zG",
        "outputId": "469caf6b-cd35-4b3f-8b3c-23ae17b63533"
      },
      "execution_count": 46,
      "outputs": [
        {
          "output_type": "execute_result",
          "data": {
            "text/plain": [
              "tensor([ 0.9570, -1.4609,  0.6094, -0.3184, -0.0195], dtype=torch.bfloat16)"
            ]
          },
          "metadata": {},
          "execution_count": 46
        }
      ]
    },
    {
      "cell_type": "markdown",
      "source": [
        "# Linear Module"
      ],
      "metadata": {
        "id": "dTkGfxnmuxCk"
      }
    },
    {
      "cell_type": "code",
      "source": [
        "l = torch.nn.Linear(in_features=5, out_features=3, bias=True)"
      ],
      "metadata": {
        "id": "1r4jhqOgwiWu"
      },
      "execution_count": 61,
      "outputs": []
    },
    {
      "cell_type": "code",
      "source": [
        "l.weight"
      ],
      "metadata": {
        "colab": {
          "base_uri": "https://localhost:8080/"
        },
        "id": "XIm4-kMQwmhM",
        "outputId": "78417944-4b34-4f45-db14-bcf1e9521add"
      },
      "execution_count": 62,
      "outputs": [
        {
          "output_type": "execute_result",
          "data": {
            "text/plain": [
              "Parameter containing:\n",
              "tensor([[ 0.1643,  0.0457, -0.1929, -0.2275, -0.0756],\n",
              "        [-0.0430, -0.1433,  0.1495,  0.0888, -0.4435],\n",
              "        [-0.1962,  0.0072, -0.3657,  0.1534,  0.2723]], requires_grad=True)"
            ]
          },
          "metadata": {},
          "execution_count": 62
        }
      ]
    },
    {
      "cell_type": "code",
      "source": [
        "l.bias"
      ],
      "metadata": {
        "colab": {
          "base_uri": "https://localhost:8080/"
        },
        "id": "Y3uS-Xqq0oL8",
        "outputId": "89e326fe-27ea-49e2-da4c-4a61e1e8ce6d"
      },
      "execution_count": 63,
      "outputs": [
        {
          "output_type": "execute_result",
          "data": {
            "text/plain": [
              "Parameter containing:\n",
              "tensor([0.3559, 0.1255, 0.2927], requires_grad=True)"
            ]
          },
          "metadata": {},
          "execution_count": 63
        }
      ]
    },
    {
      "cell_type": "code",
      "source": [
        "for p in l.parameters():\n",
        "  print(p)"
      ],
      "metadata": {
        "colab": {
          "base_uri": "https://localhost:8080/"
        },
        "id": "Zk5uAAkM1kfV",
        "outputId": "2539b178-0b53-4c1b-9e2d-7d5425042007"
      },
      "execution_count": 64,
      "outputs": [
        {
          "output_type": "stream",
          "name": "stdout",
          "text": [
            "Parameter containing:\n",
            "tensor([[ 0.1643,  0.0457, -0.1929, -0.2275, -0.0756],\n",
            "        [-0.0430, -0.1433,  0.1495,  0.0888, -0.4435],\n",
            "        [-0.1962,  0.0072, -0.3657,  0.1534,  0.2723]], requires_grad=True)\n",
            "Parameter containing:\n",
            "tensor([0.3559, 0.1255, 0.2927], requires_grad=True)\n"
          ]
        }
      ]
    },
    {
      "cell_type": "code",
      "source": [
        "l.get_parameter('weight')"
      ],
      "metadata": {
        "colab": {
          "base_uri": "https://localhost:8080/"
        },
        "id": "q8d3SDqC1l9P",
        "outputId": "83f6af0a-0309-4222-e819-7ff01acd29be"
      },
      "execution_count": 65,
      "outputs": [
        {
          "output_type": "execute_result",
          "data": {
            "text/plain": [
              "Parameter containing:\n",
              "tensor([[ 0.1643,  0.0457, -0.1929, -0.2275, -0.0756],\n",
              "        [-0.0430, -0.1433,  0.1495,  0.0888, -0.4435],\n",
              "        [-0.1962,  0.0072, -0.3657,  0.1534,  0.2723]], requires_grad=True)"
            ]
          },
          "metadata": {},
          "execution_count": 65
        }
      ]
    },
    {
      "cell_type": "code",
      "source": [
        "l.get_parameter('bias')"
      ],
      "metadata": {
        "colab": {
          "base_uri": "https://localhost:8080/"
        },
        "id": "ua7VeG3T4YmY",
        "outputId": "aad57f85-ec45-4dc4-a92a-b8108fb92b8d"
      },
      "execution_count": 66,
      "outputs": [
        {
          "output_type": "execute_result",
          "data": {
            "text/plain": [
              "Parameter containing:\n",
              "tensor([0.3559, 0.1255, 0.2927], requires_grad=True)"
            ]
          },
          "metadata": {},
          "execution_count": 66
        }
      ]
    },
    {
      "cell_type": "code",
      "source": [
        "for p in l.named_parameters():\n",
        "  print(p)"
      ],
      "metadata": {
        "colab": {
          "base_uri": "https://localhost:8080/"
        },
        "id": "5LAIpBoV4fkQ",
        "outputId": "91905771-de3d-4c34-cdbf-114bf7740992"
      },
      "execution_count": 68,
      "outputs": [
        {
          "output_type": "stream",
          "name": "stdout",
          "text": [
            "('weight', Parameter containing:\n",
            "tensor([[ 0.1643,  0.0457, -0.1929, -0.2275, -0.0756],\n",
            "        [-0.0430, -0.1433,  0.1495,  0.0888, -0.4435],\n",
            "        [-0.1962,  0.0072, -0.3657,  0.1534,  0.2723]], requires_grad=True))\n",
            "('bias', Parameter containing:\n",
            "tensor([0.3559, 0.1255, 0.2927], requires_grad=True))\n"
          ]
        }
      ]
    },
    {
      "cell_type": "markdown",
      "source": [
        "## state dict\n"
      ],
      "metadata": {
        "id": "qB5C211C8xiU"
      }
    },
    {
      "cell_type": "code",
      "source": [
        "l.state_dict()"
      ],
      "metadata": {
        "colab": {
          "base_uri": "https://localhost:8080/"
        },
        "id": "pooR2q-K45Au",
        "outputId": "7004b054-83a7-4670-dee0-fdb815a6432a"
      },
      "execution_count": 69,
      "outputs": [
        {
          "output_type": "execute_result",
          "data": {
            "text/plain": [
              "OrderedDict([('weight',\n",
              "              tensor([[ 0.1643,  0.0457, -0.1929, -0.2275, -0.0756],\n",
              "                      [-0.0430, -0.1433,  0.1495,  0.0888, -0.4435],\n",
              "                      [-0.1962,  0.0072, -0.3657,  0.1534,  0.2723]])),\n",
              "             ('bias', tensor([0.3559, 0.1255, 0.2927]))])"
            ]
          },
          "metadata": {},
          "execution_count": 69
        }
      ]
    },
    {
      "cell_type": "code",
      "source": [
        "torch.save(l.state_dict(), \"test_1.pth\")"
      ],
      "metadata": {
        "id": "rJvbSnZD7KAF"
      },
      "execution_count": 70,
      "outputs": []
    },
    {
      "cell_type": "code",
      "source": [
        "d = torch.load(\"test_1.pth\")"
      ],
      "metadata": {
        "id": "t2LmNUdk8a5K"
      },
      "execution_count": 71,
      "outputs": []
    },
    {
      "cell_type": "code",
      "source": [
        "d"
      ],
      "metadata": {
        "colab": {
          "base_uri": "https://localhost:8080/"
        },
        "id": "MeuoQ46M8fCC",
        "outputId": "2550578b-f9ba-4d40-e661-4e2996df9a49"
      },
      "execution_count": 72,
      "outputs": [
        {
          "output_type": "execute_result",
          "data": {
            "text/plain": [
              "OrderedDict([('weight',\n",
              "              tensor([[ 0.1643,  0.0457, -0.1929, -0.2275, -0.0756],\n",
              "                      [-0.0430, -0.1433,  0.1495,  0.0888, -0.4435],\n",
              "                      [-0.1962,  0.0072, -0.3657,  0.1534,  0.2723]])),\n",
              "             ('bias', tensor([0.3559, 0.1255, 0.2927]))])"
            ]
          },
          "metadata": {},
          "execution_count": 72
        }
      ]
    },
    {
      "cell_type": "code",
      "source": [
        "l2= torch.nn.Linear(in_features=5, out_features=3, bias=True)"
      ],
      "metadata": {
        "id": "zfbVmItD8fU8"
      },
      "execution_count": 73,
      "outputs": []
    },
    {
      "cell_type": "code",
      "source": [
        "l2.load_state_dict(d)"
      ],
      "metadata": {
        "colab": {
          "base_uri": "https://localhost:8080/"
        },
        "id": "BEZBwpZi8mCc",
        "outputId": "40bb05ca-afcb-4117-9d19-55169b8cc042"
      },
      "execution_count": 74,
      "outputs": [
        {
          "output_type": "execute_result",
          "data": {
            "text/plain": [
              "<All keys matched successfully>"
            ]
          },
          "metadata": {},
          "execution_count": 74
        }
      ]
    },
    {
      "cell_type": "code",
      "source": [
        "## run module"
      ],
      "metadata": {
        "id": "_cGsnPF3_NA6"
      },
      "execution_count": 79,
      "outputs": []
    },
    {
      "cell_type": "code",
      "source": [
        "x = torch.randn(5)"
      ],
      "metadata": {
        "id": "4vlT2rjx8ohE"
      },
      "execution_count": 76,
      "outputs": []
    },
    {
      "cell_type": "code",
      "source": [
        "l(x)"
      ],
      "metadata": {
        "colab": {
          "base_uri": "https://localhost:8080/"
        },
        "id": "hw6tOjsA8pcJ",
        "outputId": "70683cc1-80ad-4b13-c8fa-21ce614fa399"
      },
      "execution_count": 78,
      "outputs": [
        {
          "output_type": "execute_result",
          "data": {
            "text/plain": [
              "tensor([ 0.0580, -0.0108, -0.2359], grad_fn=<ViewBackward0>)"
            ]
          },
          "metadata": {},
          "execution_count": 78
        }
      ]
    },
    {
      "cell_type": "code",
      "source": [],
      "metadata": {
        "id": "xIN5VzEB-na2"
      },
      "execution_count": null,
      "outputs": []
    }
  ]
}