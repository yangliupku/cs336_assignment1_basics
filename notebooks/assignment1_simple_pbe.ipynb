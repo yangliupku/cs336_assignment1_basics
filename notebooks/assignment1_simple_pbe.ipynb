{
  "nbformat": 4,
  "nbformat_minor": 0,
  "metadata": {
    "colab": {
      "provenance": [],
      "authorship_tag": "ABX9TyNFn136fDDc5lACoD7oX/tc",
      "include_colab_link": true
    },
    "kernelspec": {
      "name": "python3",
      "display_name": "Python 3"
    },
    "language_info": {
      "name": "python"
    }
  },
  "cells": [
    {
      "cell_type": "markdown",
      "metadata": {
        "id": "view-in-github",
        "colab_type": "text"
      },
      "source": [
        "<a href=\"https://colab.research.google.com/github/yangliupku/assignment1-basics/blob/main/notebooks/assignment1_simple_pbe.ipynb\" target=\"_parent\"><img src=\"https://colab.research.google.com/assets/colab-badge.svg\" alt=\"Open In Colab\"/></a>"
      ]
    },
    {
      "cell_type": "code",
      "source": [
        "# bpe simple example"
      ],
      "metadata": {
        "id": "Zomd_8s2YED_"
      },
      "execution_count": 8,
      "outputs": []
    },
    {
      "cell_type": "code",
      "source": [
        "s = \"\"\"\n",
        "low low low low low\n",
        "lower lower widest widest widest\n",
        "newest newest newest newest newest newest\n",
        "\"\"\""
      ],
      "metadata": {
        "id": "fHUvSXemoZXZ"
      },
      "execution_count": 3,
      "outputs": []
    },
    {
      "cell_type": "code",
      "source": [
        "from collections import Counter\n",
        "from itertools import pairwise"
      ],
      "metadata": {
        "id": "R6vE0GFOh9s4"
      },
      "execution_count": 4,
      "outputs": []
    },
    {
      "cell_type": "code",
      "source": [
        "pre_tokenized_words = s.split()"
      ],
      "metadata": {
        "id": "rSZnSE5iXqmw"
      },
      "execution_count": 5,
      "outputs": []
    },
    {
      "cell_type": "code",
      "source": [
        "special_token = \"<|endoftext|>\""
      ],
      "metadata": {
        "id": "26yj95ZaXsJx"
      },
      "execution_count": 6,
      "outputs": []
    },
    {
      "cell_type": "code",
      "source": [
        "special_token.encode(\"utf-8\")"
      ],
      "metadata": {
        "colab": {
          "base_uri": "https://localhost:8080/"
        },
        "id": "CbtsPmnXYpuD",
        "outputId": "9ad91503-b841-4f03-9fd4-d5aeff682ae1"
      },
      "execution_count": 7,
      "outputs": [
        {
          "output_type": "execute_result",
          "data": {
            "text/plain": [
              "b'<|endoftext|>'"
            ]
          },
          "metadata": {},
          "execution_count": 7
        }
      ]
    },
    {
      "cell_type": "code",
      "source": [
        "def get_merge_pair(byte_tuple_list: list[tuple[bytes]]) -> tuple[bytes, bytes]:\n",
        "    # count adjacent byte pairs\n",
        "    c = Counter(byte_tuple_list)\n",
        "    merge_counter = Counter()\n",
        "    for byte_seq, seq_ct in c.items():\n",
        "      if len(byte_seq) > 1:\n",
        "        for (i, j) in pairwise(byte_seq):\n",
        "          merge_counter[(i, j)] += seq_ct\n",
        "    max_count = max(merge_counter.values())\n",
        "    # break the tie and get most frequent pair\n",
        "    tied_pairs = [pair for pair, count in merge_counter.items() if count == max_count]\n",
        "    merge_byte_pair = sorted(tied_pairs, reverse=True)[0]\n",
        "    return merge_byte_pair\n",
        "\n",
        "def apply_merge_pair(byte_tuple_list: list[tuple[bytes]], merge_byte_pair: tuple[bytes, bytes]) -> list[tuple[bytes]]:\n",
        "    merged_bytes_tuples = []\n",
        "    for byte_seq in byte_tuple_list:\n",
        "      new_byte_seq = []\n",
        "      i = 0\n",
        "      while i < len(byte_seq):\n",
        "        if i < len(byte_seq) - 1 and (byte_seq[i], byte_seq[i+1]) == merge_byte_pair:\n",
        "          new_byte_seq.append(merge_byte_pair[0]+merge_byte_pair[1])\n",
        "          i += 2\n",
        "          i += 2\n",
        "        else:\n",
        "          new_byte_seq.append(byte_seq[i])\n",
        "          i += 1\n",
        "      merged_bytes_tuples.append(tuple(new_byte_seq))\n",
        "    return merged_bytes_tuples\n",
        "\n",
        "def get_bpe_merges(pre_tokenized_words: list[str])-> tuple[dict[int, bytes], list[tuple[bytes, bytes]]]:\n",
        "  vocab = {i: bytes([i]) for i in range(255)}\n",
        "  merge_byte_pairs = []\n",
        "  next_vocab_index = 256\n",
        "  pre_tokenized_bytes = [word.encode(\"utf-8\") for word in pre_tokenized_words]\n",
        "  bytes_tuples = [tuple(bytes([i]) for i in list(word)) for word in pre_tokenized_bytes]\n",
        "  print(\"input bytes\", bytes_tuples)\n",
        "  for merge_iteration in range(6):\n",
        "    print(f\"---------merge_iteration:{merge_iteration}--------------\")\n",
        "    merge_byte_pair = get_merge_pair(bytes_tuples)\n",
        "    merge_byte_pairs.append(merge_byte_pair)\n",
        "    print(\"merge_byte_pair\", merge_byte_pair)\n",
        "    vocab[next_vocab_index] = merge_byte_pair[0] + merge_byte_pair[1]\n",
        "    next_vocab_index += 1\n",
        "    bytes_tuples = apply_merge_pair(bytes_tuples, merge_byte_pair)\n",
        "    print(\"bytes_tuples\", bytes_tuples)\n",
        "  return vocab, merge_byte_pairs"
      ],
      "metadata": {
        "id": "0Co7jA8LYsYJ"
      },
      "execution_count": 17,
      "outputs": []
    },
    {
      "cell_type": "code",
      "source": [
        "get_bpe_merges(pre_tokenized_words)"
      ],
      "metadata": {
        "colab": {
          "base_uri": "https://localhost:8080/"
        },
        "id": "bbIHKtqAarCE",
        "outputId": "9472a8a5-7e7a-4f41-ed53-6d3a66484544"
      },
      "execution_count": 18,
      "outputs": [
        {
          "output_type": "stream",
          "name": "stdout",
          "text": [
            "input bytes [(b'l', b'o', b'w'), (b'l', b'o', b'w'), (b'l', b'o', b'w'), (b'l', b'o', b'w'), (b'l', b'o', b'w'), (b'l', b'o', b'w', b'e', b'r'), (b'l', b'o', b'w', b'e', b'r'), (b'w', b'i', b'd', b'e', b's', b't'), (b'w', b'i', b'd', b'e', b's', b't'), (b'w', b'i', b'd', b'e', b's', b't'), (b'n', b'e', b'w', b'e', b's', b't'), (b'n', b'e', b'w', b'e', b's', b't'), (b'n', b'e', b'w', b'e', b's', b't'), (b'n', b'e', b'w', b'e', b's', b't'), (b'n', b'e', b'w', b'e', b's', b't'), (b'n', b'e', b'w', b'e', b's', b't')]\n",
            "---------merge_iteration:0--------------\n",
            "merge_byte_pair (b's', b't')\n",
            "bytes_tuples [(b'l', b'o', b'w'), (b'l', b'o', b'w'), (b'l', b'o', b'w'), (b'l', b'o', b'w'), (b'l', b'o', b'w'), (b'l', b'o', b'w', b'e', b'r'), (b'l', b'o', b'w', b'e', b'r'), (b'w', b'i', b'd', b'e', b'st'), (b'w', b'i', b'd', b'e', b'st'), (b'w', b'i', b'd', b'e', b'st'), (b'n', b'e', b'w', b'e', b'st'), (b'n', b'e', b'w', b'e', b'st'), (b'n', b'e', b'w', b'e', b'st'), (b'n', b'e', b'w', b'e', b'st'), (b'n', b'e', b'w', b'e', b'st'), (b'n', b'e', b'w', b'e', b'st')]\n",
            "---------merge_iteration:1--------------\n",
            "merge_byte_pair (b'e', b'st')\n",
            "bytes_tuples [(b'l', b'o', b'w'), (b'l', b'o', b'w'), (b'l', b'o', b'w'), (b'l', b'o', b'w'), (b'l', b'o', b'w'), (b'l', b'o', b'w', b'e', b'r'), (b'l', b'o', b'w', b'e', b'r'), (b'w', b'i', b'd', b'est'), (b'w', b'i', b'd', b'est'), (b'w', b'i', b'd', b'est'), (b'n', b'e', b'w', b'est'), (b'n', b'e', b'w', b'est'), (b'n', b'e', b'w', b'est'), (b'n', b'e', b'w', b'est'), (b'n', b'e', b'w', b'est'), (b'n', b'e', b'w', b'est')]\n",
            "---------merge_iteration:2--------------\n",
            "merge_byte_pair (b'o', b'w')\n",
            "bytes_tuples [(b'l', b'ow'), (b'l', b'ow'), (b'l', b'ow'), (b'l', b'ow'), (b'l', b'ow'), (b'l', b'ow'), (b'l', b'ow'), (b'w', b'i', b'd', b'est'), (b'w', b'i', b'd', b'est'), (b'w', b'i', b'd', b'est'), (b'n', b'e', b'w', b'est'), (b'n', b'e', b'w', b'est'), (b'n', b'e', b'w', b'est'), (b'n', b'e', b'w', b'est'), (b'n', b'e', b'w', b'est'), (b'n', b'e', b'w', b'est')]\n",
            "---------merge_iteration:3--------------\n",
            "merge_byte_pair (b'l', b'ow')\n",
            "bytes_tuples [(b'low',), (b'low',), (b'low',), (b'low',), (b'low',), (b'low',), (b'low',), (b'w', b'i', b'd', b'est'), (b'w', b'i', b'd', b'est'), (b'w', b'i', b'd', b'est'), (b'n', b'e', b'w', b'est'), (b'n', b'e', b'w', b'est'), (b'n', b'e', b'w', b'est'), (b'n', b'e', b'w', b'est'), (b'n', b'e', b'w', b'est'), (b'n', b'e', b'w', b'est')]\n",
            "---------merge_iteration:4--------------\n",
            "merge_byte_pair (b'w', b'est')\n",
            "bytes_tuples [(b'low',), (b'low',), (b'low',), (b'low',), (b'low',), (b'low',), (b'low',), (b'w', b'i', b'd', b'est'), (b'w', b'i', b'd', b'est'), (b'w', b'i', b'd', b'est'), (b'n', b'e', b'west'), (b'n', b'e', b'west'), (b'n', b'e', b'west'), (b'n', b'e', b'west'), (b'n', b'e', b'west'), (b'n', b'e', b'west')]\n",
            "---------merge_iteration:5--------------\n",
            "merge_byte_pair (b'n', b'e')\n",
            "bytes_tuples [(b'low',), (b'low',), (b'low',), (b'low',), (b'low',), (b'low',), (b'low',), (b'w', b'i', b'd', b'est'), (b'w', b'i', b'd', b'est'), (b'w', b'i', b'd', b'est'), (b'ne',), (b'ne',), (b'ne',), (b'ne',), (b'ne',), (b'ne',)]\n"
          ]
        },
        {
          "output_type": "execute_result",
          "data": {
            "text/plain": [
              "({0: b'\\x00',\n",
              "  1: b'\\x01',\n",
              "  2: b'\\x02',\n",
              "  3: b'\\x03',\n",
              "  4: b'\\x04',\n",
              "  5: b'\\x05',\n",
              "  6: b'\\x06',\n",
              "  7: b'\\x07',\n",
              "  8: b'\\x08',\n",
              "  9: b'\\t',\n",
              "  10: b'\\n',\n",
              "  11: b'\\x0b',\n",
              "  12: b'\\x0c',\n",
              "  13: b'\\r',\n",
              "  14: b'\\x0e',\n",
              "  15: b'\\x0f',\n",
              "  16: b'\\x10',\n",
              "  17: b'\\x11',\n",
              "  18: b'\\x12',\n",
              "  19: b'\\x13',\n",
              "  20: b'\\x14',\n",
              "  21: b'\\x15',\n",
              "  22: b'\\x16',\n",
              "  23: b'\\x17',\n",
              "  24: b'\\x18',\n",
              "  25: b'\\x19',\n",
              "  26: b'\\x1a',\n",
              "  27: b'\\x1b',\n",
              "  28: b'\\x1c',\n",
              "  29: b'\\x1d',\n",
              "  30: b'\\x1e',\n",
              "  31: b'\\x1f',\n",
              "  32: b' ',\n",
              "  33: b'!',\n",
              "  34: b'\"',\n",
              "  35: b'#',\n",
              "  36: b'$',\n",
              "  37: b'%',\n",
              "  38: b'&',\n",
              "  39: b\"'\",\n",
              "  40: b'(',\n",
              "  41: b')',\n",
              "  42: b'*',\n",
              "  43: b'+',\n",
              "  44: b',',\n",
              "  45: b'-',\n",
              "  46: b'.',\n",
              "  47: b'/',\n",
              "  48: b'0',\n",
              "  49: b'1',\n",
              "  50: b'2',\n",
              "  51: b'3',\n",
              "  52: b'4',\n",
              "  53: b'5',\n",
              "  54: b'6',\n",
              "  55: b'7',\n",
              "  56: b'8',\n",
              "  57: b'9',\n",
              "  58: b':',\n",
              "  59: b';',\n",
              "  60: b'<',\n",
              "  61: b'=',\n",
              "  62: b'>',\n",
              "  63: b'?',\n",
              "  64: b'@',\n",
              "  65: b'A',\n",
              "  66: b'B',\n",
              "  67: b'C',\n",
              "  68: b'D',\n",
              "  69: b'E',\n",
              "  70: b'F',\n",
              "  71: b'G',\n",
              "  72: b'H',\n",
              "  73: b'I',\n",
              "  74: b'J',\n",
              "  75: b'K',\n",
              "  76: b'L',\n",
              "  77: b'M',\n",
              "  78: b'N',\n",
              "  79: b'O',\n",
              "  80: b'P',\n",
              "  81: b'Q',\n",
              "  82: b'R',\n",
              "  83: b'S',\n",
              "  84: b'T',\n",
              "  85: b'U',\n",
              "  86: b'V',\n",
              "  87: b'W',\n",
              "  88: b'X',\n",
              "  89: b'Y',\n",
              "  90: b'Z',\n",
              "  91: b'[',\n",
              "  92: b'\\\\',\n",
              "  93: b']',\n",
              "  94: b'^',\n",
              "  95: b'_',\n",
              "  96: b'`',\n",
              "  97: b'a',\n",
              "  98: b'b',\n",
              "  99: b'c',\n",
              "  100: b'd',\n",
              "  101: b'e',\n",
              "  102: b'f',\n",
              "  103: b'g',\n",
              "  104: b'h',\n",
              "  105: b'i',\n",
              "  106: b'j',\n",
              "  107: b'k',\n",
              "  108: b'l',\n",
              "  109: b'm',\n",
              "  110: b'n',\n",
              "  111: b'o',\n",
              "  112: b'p',\n",
              "  113: b'q',\n",
              "  114: b'r',\n",
              "  115: b's',\n",
              "  116: b't',\n",
              "  117: b'u',\n",
              "  118: b'v',\n",
              "  119: b'w',\n",
              "  120: b'x',\n",
              "  121: b'y',\n",
              "  122: b'z',\n",
              "  123: b'{',\n",
              "  124: b'|',\n",
              "  125: b'}',\n",
              "  126: b'~',\n",
              "  127: b'\\x7f',\n",
              "  128: b'\\x80',\n",
              "  129: b'\\x81',\n",
              "  130: b'\\x82',\n",
              "  131: b'\\x83',\n",
              "  132: b'\\x84',\n",
              "  133: b'\\x85',\n",
              "  134: b'\\x86',\n",
              "  135: b'\\x87',\n",
              "  136: b'\\x88',\n",
              "  137: b'\\x89',\n",
              "  138: b'\\x8a',\n",
              "  139: b'\\x8b',\n",
              "  140: b'\\x8c',\n",
              "  141: b'\\x8d',\n",
              "  142: b'\\x8e',\n",
              "  143: b'\\x8f',\n",
              "  144: b'\\x90',\n",
              "  145: b'\\x91',\n",
              "  146: b'\\x92',\n",
              "  147: b'\\x93',\n",
              "  148: b'\\x94',\n",
              "  149: b'\\x95',\n",
              "  150: b'\\x96',\n",
              "  151: b'\\x97',\n",
              "  152: b'\\x98',\n",
              "  153: b'\\x99',\n",
              "  154: b'\\x9a',\n",
              "  155: b'\\x9b',\n",
              "  156: b'\\x9c',\n",
              "  157: b'\\x9d',\n",
              "  158: b'\\x9e',\n",
              "  159: b'\\x9f',\n",
              "  160: b'\\xa0',\n",
              "  161: b'\\xa1',\n",
              "  162: b'\\xa2',\n",
              "  163: b'\\xa3',\n",
              "  164: b'\\xa4',\n",
              "  165: b'\\xa5',\n",
              "  166: b'\\xa6',\n",
              "  167: b'\\xa7',\n",
              "  168: b'\\xa8',\n",
              "  169: b'\\xa9',\n",
              "  170: b'\\xaa',\n",
              "  171: b'\\xab',\n",
              "  172: b'\\xac',\n",
              "  173: b'\\xad',\n",
              "  174: b'\\xae',\n",
              "  175: b'\\xaf',\n",
              "  176: b'\\xb0',\n",
              "  177: b'\\xb1',\n",
              "  178: b'\\xb2',\n",
              "  179: b'\\xb3',\n",
              "  180: b'\\xb4',\n",
              "  181: b'\\xb5',\n",
              "  182: b'\\xb6',\n",
              "  183: b'\\xb7',\n",
              "  184: b'\\xb8',\n",
              "  185: b'\\xb9',\n",
              "  186: b'\\xba',\n",
              "  187: b'\\xbb',\n",
              "  188: b'\\xbc',\n",
              "  189: b'\\xbd',\n",
              "  190: b'\\xbe',\n",
              "  191: b'\\xbf',\n",
              "  192: b'\\xc0',\n",
              "  193: b'\\xc1',\n",
              "  194: b'\\xc2',\n",
              "  195: b'\\xc3',\n",
              "  196: b'\\xc4',\n",
              "  197: b'\\xc5',\n",
              "  198: b'\\xc6',\n",
              "  199: b'\\xc7',\n",
              "  200: b'\\xc8',\n",
              "  201: b'\\xc9',\n",
              "  202: b'\\xca',\n",
              "  203: b'\\xcb',\n",
              "  204: b'\\xcc',\n",
              "  205: b'\\xcd',\n",
              "  206: b'\\xce',\n",
              "  207: b'\\xcf',\n",
              "  208: b'\\xd0',\n",
              "  209: b'\\xd1',\n",
              "  210: b'\\xd2',\n",
              "  211: b'\\xd3',\n",
              "  212: b'\\xd4',\n",
              "  213: b'\\xd5',\n",
              "  214: b'\\xd6',\n",
              "  215: b'\\xd7',\n",
              "  216: b'\\xd8',\n",
              "  217: b'\\xd9',\n",
              "  218: b'\\xda',\n",
              "  219: b'\\xdb',\n",
              "  220: b'\\xdc',\n",
              "  221: b'\\xdd',\n",
              "  222: b'\\xde',\n",
              "  223: b'\\xdf',\n",
              "  224: b'\\xe0',\n",
              "  225: b'\\xe1',\n",
              "  226: b'\\xe2',\n",
              "  227: b'\\xe3',\n",
              "  228: b'\\xe4',\n",
              "  229: b'\\xe5',\n",
              "  230: b'\\xe6',\n",
              "  231: b'\\xe7',\n",
              "  232: b'\\xe8',\n",
              "  233: b'\\xe9',\n",
              "  234: b'\\xea',\n",
              "  235: b'\\xeb',\n",
              "  236: b'\\xec',\n",
              "  237: b'\\xed',\n",
              "  238: b'\\xee',\n",
              "  239: b'\\xef',\n",
              "  240: b'\\xf0',\n",
              "  241: b'\\xf1',\n",
              "  242: b'\\xf2',\n",
              "  243: b'\\xf3',\n",
              "  244: b'\\xf4',\n",
              "  245: b'\\xf5',\n",
              "  246: b'\\xf6',\n",
              "  247: b'\\xf7',\n",
              "  248: b'\\xf8',\n",
              "  249: b'\\xf9',\n",
              "  250: b'\\xfa',\n",
              "  251: b'\\xfb',\n",
              "  252: b'\\xfc',\n",
              "  253: b'\\xfd',\n",
              "  254: b'\\xfe',\n",
              "  256: b'st',\n",
              "  257: b'est',\n",
              "  258: b'ow',\n",
              "  259: b'low',\n",
              "  260: b'west',\n",
              "  261: b'ne'},\n",
              " [(b's', b't'),\n",
              "  (b'e', b'st'),\n",
              "  (b'o', b'w'),\n",
              "  (b'l', b'ow'),\n",
              "  (b'w', b'est'),\n",
              "  (b'n', b'e')])"
            ]
          },
          "metadata": {},
          "execution_count": 18
        }
      ]
    },
    {
      "cell_type": "code",
      "source": [
        "tuple(bytes([i]) for i in list(('abc').encode(\"utf-8\")))"
      ],
      "metadata": {
        "colab": {
          "base_uri": "https://localhost:8080/"
        },
        "id": "f9HCZQRNbTwr",
        "outputId": "b66b0f47-385e-492c-df00-03fde2b46693"
      },
      "execution_count": 39,
      "outputs": [
        {
          "output_type": "execute_result",
          "data": {
            "text/plain": [
              "(b'a', b'b', b'c')"
            ]
          },
          "metadata": {},
          "execution_count": 39
        }
      ]
    },
    {
      "cell_type": "code",
      "source": [
        "a = b'a'"
      ],
      "metadata": {
        "id": "WNUS4dxlg9gH"
      },
      "execution_count": 86,
      "outputs": []
    },
    {
      "cell_type": "code",
      "source": [
        "type(a)"
      ],
      "metadata": {
        "colab": {
          "base_uri": "https://localhost:8080/"
        },
        "id": "gN_NG8qRkSLt",
        "outputId": "7158e922-af4a-453c-fce5-08ff473d0b73"
      },
      "execution_count": 87,
      "outputs": [
        {
          "output_type": "execute_result",
          "data": {
            "text/plain": [
              "bytes"
            ]
          },
          "metadata": {},
          "execution_count": 87
        }
      ]
    },
    {
      "cell_type": "code",
      "source": [
        "tuple([1,2,3])"
      ],
      "metadata": {
        "colab": {
          "base_uri": "https://localhost:8080/"
        },
        "id": "wUoNW9N7kUbi",
        "outputId": "babaea70-8cff-4ac3-8fe9-60bb5835981d"
      },
      "execution_count": 88,
      "outputs": [
        {
          "output_type": "execute_result",
          "data": {
            "text/plain": [
              "(1, 2, 3)"
            ]
          },
          "metadata": {},
          "execution_count": 88
        }
      ]
    },
    {
      "cell_type": "code",
      "source": [
        "a.most_common()"
      ],
      "metadata": {
        "colab": {
          "base_uri": "https://localhost:8080/"
        },
        "id": "AxzvkJ_5kWkt",
        "outputId": "843dcaea-235f-40df-c8eb-abbc1d9d5077"
      },
      "execution_count": 64,
      "outputs": [
        {
          "output_type": "execute_result",
          "data": {
            "text/plain": [
              "[(2, 2), (3, 2), ('a', 2), (1, 1)]"
            ]
          },
          "metadata": {},
          "execution_count": 64
        }
      ]
    },
    {
      "cell_type": "code",
      "source": [],
      "metadata": {
        "id": "bidK0rAJkW9I"
      },
      "execution_count": null,
      "outputs": []
    }
  ]
}