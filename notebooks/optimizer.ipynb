{
  "nbformat": 4,
  "nbformat_minor": 0,
  "metadata": {
    "colab": {
      "provenance": [],
      "authorship_tag": "ABX9TyMuf/oqogAu+71vsErmID5Y",
      "include_colab_link": true
    },
    "kernelspec": {
      "name": "python3",
      "display_name": "Python 3"
    },
    "language_info": {
      "name": "python"
    }
  },
  "cells": [
    {
      "cell_type": "markdown",
      "metadata": {
        "id": "view-in-github",
        "colab_type": "text"
      },
      "source": [
        "<a href=\"https://colab.research.google.com/github/yangliupku/cs336_assignment1_basics/blob/main/notebooks/optimizer.ipynb\" target=\"_parent\"><img src=\"https://colab.research.google.com/assets/colab-badge.svg\" alt=\"Open In Colab\"/></a>"
      ]
    },
    {
      "cell_type": "code",
      "execution_count": 4,
      "metadata": {
        "id": "2xZoDDlGdaJ2"
      },
      "outputs": [],
      "source": [
        "from collections.abc import Callable, Iterable\n",
        "from typing import Optional\n",
        "import torch\n",
        "import math"
      ]
    },
    {
      "cell_type": "code",
      "source": [
        "class SGD(torch.optim.Optimizer):\n",
        "    def __init__(self, params, lr=1e-3):\n",
        "      defaults = {'lr': lr}\n",
        "      super().__init__(params, defaults)\n",
        "\n",
        "    def step(self, closure: Optional[Callable]=None):\n",
        "      loss = None\n",
        "      if closure is not None:\n",
        "        loss = closure()\n",
        "      for group in self.param_groups:\n",
        "        lr = group['lr']\n",
        "        for p in group['params']:\n",
        "          if p.grad is None:\n",
        "            continue\n",
        "\n",
        "          state = self.state[p]\n",
        "          t = state.get('t', 0)\n",
        "          grad = p.grad.data\n",
        "          p.data -= lr / math.sqrt(t + 1) * grad\n",
        "          state['t'] = t + 1\n",
        "      return loss\n",
        "\n",
        ""
      ],
      "metadata": {
        "id": "Uesdxmq2dm3J"
      },
      "execution_count": 5,
      "outputs": []
    },
    {
      "cell_type": "code",
      "source": [
        "weights = torch.nn.Parameter(5 * torch.randn(10, 10))\n",
        "opt = SGD([weights], lr=1e1)\n"
      ],
      "metadata": {
        "id": "Hfe0QMkZe01j"
      },
      "execution_count": 14,
      "outputs": []
    },
    {
      "cell_type": "code",
      "source": [
        "for t in range(10):\n",
        "  opt.zero_grad()\n",
        "  loss = (weights ** 2).mean()\n",
        "  print(loss.cpu().item())\n",
        "  loss.backward()\n",
        "  opt.step()\n",
        "\n"
      ],
      "metadata": {
        "colab": {
          "base_uri": "https://localhost:8080/"
        },
        "id": "8zKwx14XfOY0",
        "outputId": "91b42004-210a-4e8a-a4a1-52075c0eba4b"
      },
      "execution_count": 15,
      "outputs": [
        {
          "output_type": "stream",
          "name": "stdout",
          "text": [
            "20.543134689331055\n",
            "13.147604942321777\n",
            "9.691853523254395\n",
            "7.5828399658203125\n",
            "6.142100811004639\n",
            "5.092504978179932\n",
            "4.294852256774902\n",
            "3.6700737476348877\n",
            "3.1693975925445557\n",
            "2.760897159576416\n"
          ]
        }
      ]
    },
    {
      "cell_type": "code",
      "source": [],
      "metadata": {
        "colab": {
          "base_uri": "https://localhost:8080/"
        },
        "id": "tcBB6XGJfmCu",
        "outputId": "a13e4d82-2d8a-45fa-f8aa-defbf6bfee76"
      },
      "execution_count": 16,
      "outputs": [
        {
          "output_type": "execute_result",
          "data": {
            "text/plain": [
              "tensor(2.7609, grad_fn=<MeanBackward0>)"
            ]
          },
          "metadata": {},
          "execution_count": 16
        }
      ]
    },
    {
      "cell_type": "code",
      "source": [],
      "metadata": {
        "id": "VV1mPo3Of60x"
      },
      "execution_count": null,
      "outputs": []
    }
  ]
}